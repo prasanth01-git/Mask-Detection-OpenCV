{
 "cells": [
  {
   "cell_type": "code",
   "execution_count": null,
   "id": "fcfd3cc2",
   "metadata": {},
   "outputs": [],
   "source": [
    "!pip install tensorflow\n",
    "!pip install opencv-python"
   ]
  },
  {
   "cell_type": "code",
   "execution_count": null,
   "id": "33a4dc2f",
   "metadata": {},
   "outputs": [],
   "source": [
    "import tensorflow as tf\n",
    "import cv2\n",
    "import numpy\n",
    "from tensorflow.keras.models import load_model"
   ]
  },
  {
   "cell_type": "code",
   "execution_count": null,
   "id": "b647f62b",
   "metadata": {},
   "outputs": [],
   "source": [
    "detector = load_model('.....ADD MODEL....')\n",
    "cap = cv2.VideoCapture(0) \n",
    "classifier = cv2.CascadeClassifier(\".....ADD XML....\")"
   ]
  },
  {
   "cell_type": "code",
   "execution_count": null,
   "id": "36719598",
   "metadata": {},
   "outputs": [],
   "source": [
    "while True:\n",
    "    (success, frame) = cap.read()  \n",
    "    new_image = cv2.resize(frame, (frame.shape[1] // 1, frame.shape[0] // 1))\n",
    "    face = classifier.detectMultiScale(new_image) \n",
    "    for x,y,w,h in face:\n",
    "        try:\n",
    "            face_img = new_image[y:x+h, x:x+w] \n",
    "            resized= cv2.resize(face_img,(224,224))\n",
    "            image_array = tf.keras.preprocessing.image.img_to_array(resized)\n",
    "            image_array = tf.expand_dims(image_array,0) \n",
    "            predictions = detector.predict(image_array) \n",
    "            score = tf.nn.softmax(predictions[0])\n",
    "            label = numpy.argmax(score)\n",
    "        except Exception as e:\n",
    "            print('ERROR')\n",
    "            \n",
    "        if label == 0:\n",
    "            cv2.rectangle(new_image,(x,y),(x+w,y+h),(0,255,0),2)\n",
    "            cv2.putText(new_image,\"Mask\",(x,y),cv2.FONT_HERSHEY_SIMPLEX,0.8,(0,255,0), 2)\n",
    "        elif label == 1:\n",
    "            cv2.rectangle(new_image,(x,y),(x+w,y+h),(0,0,255),2)\n",
    "            cv2.putText(new_image,'No Mask',(x,y),cv2.FONT_HERSHEY_SIMPLEX,0.8,(0,0,255), 2)\n",
    "        else:\n",
    "            None\n",
    "    cv2.imshow('OUTPUT', new_image)\n",
    "    print(numpy.argmax(score), 100*numpy.max(score))\n",
    "    key = cv2.waitKey(10) \n",
    "    if key == ord('q'):\n",
    "        break\n",
    "cap.release()\n",
    "cv2.destroyAllWindows()"
   ]
  }
 ],
 "metadata": {
  "kernelspec": {
   "display_name": "Python 3",
   "language": "python",
   "name": "python3"
  },
  "language_info": {
   "codemirror_mode": {
    "name": "ipython",
    "version": 3
   },
   "file_extension": ".py",
   "mimetype": "text/x-python",
   "name": "python",
   "nbconvert_exporter": "python",
   "pygments_lexer": "ipython3",
   "version": "3.8.8"
  }
 },
 "nbformat": 4,
 "nbformat_minor": 5
}
